{
 "cells": [
  {
   "cell_type": "markdown",
   "metadata": {},
   "source": [
    "## Observations and Insights "
   ]
  },
  {
   "cell_type": "markdown",
   "metadata": {},
   "source": []
  },
  {
   "cell_type": "markdown",
   "metadata": {},
   "source": [
    "# Case Details, Goals, etc."
   ]
  },
  {
   "cell_type": "markdown",
   "metadata": {},
   "source": [
    "*  Before beginning the analysis, check the data for duplicate mice and remove any data associated with that mouse ID.\n",
    "\n",
    "* Generate a summary statistics table consisting of the mean, median, variance, standard deviation, and SEM of the tumor volume for each drug regimen.\n",
    "\n",
    "* Generate a bar plot using both Pandas's `DataFrame.plot()` and Matplotlib's `pyplot` that shows the number of data points for each treatment regimen.\n",
    "\n",
    "  * **NOTE:** These plots should look identical.\n",
    "\n",
    "* Generate a pie plot using both Pandas's `DataFrame.plot()` and Matplotlib's `pyplot` that shows the distribution of female or male mice in the study.\n",
    "\n",
    "  * **NOTE:** These plots should look identical.\n",
    "\n",
    "* Calculate the final tumor volume of each mouse across four of the most promising treatment regimens: Capomulin, Ramicane, Infubinol, and Ceftamin. Calculate the quartiles and IQR and quantitatively determine if there are any potential outliers across all four treatment regimens.\n",
    "\n",
    "* Using Matplotlib, generate a box and whisker plot of the final tumor volume for all four treatment regimens and highlight any potential outliers in the plot by changing their color and style.\n",
    "\n",
    "  **Hint**: All four box plots should be within the same figure. Use this [Matplotlib documentation page](https://matplotlib.org/gallery/pyplots/boxplot_demo_pyplot.html#sphx-glr-gallery-pyplots-boxplot-demo-pyplot-py) for help with changing the style of the outliers.\n",
    "\n",
    "* Generate a line plot of time point versus tumor volume for a single mouse treated with Capomulin.\n",
    "\n",
    "* Generate a scatter plot of mouse weight versus average tumor volume for the Capomulin treatment regimen.\n",
    "\n",
    "* Calculate the correlation coefficient and linear regression model between mouse weight and average tumor volume for the Capomulin treatment. Plot the linear regression model on top of the previous scatter plot.\n",
    "\n",
    "* Look across all previously generated figures and tables and write at least three observations or inferences that can be made from the data. Include these observations at the top of notebook.\n",
    "\n",
    "Here are some final considerations:\n",
    "\n",
    "* You must use proper labeling of your plots, to include properties such as: plot titles, axis labels, legend labels, _x_-axis and _y_-axis limits, etc.\n",
    "\n",
    "* See the [starter workbook](Pymaceuticals/pymaceuticals_starter.ipynb) for help on what modules to import and expected format of the notebook.\n",
    "\n",
    "## Hints and Considerations\n",
    "\n",
    "* Be warned: These are very challenging tasks. Be patient with yourself as you trudge through these problems. They will take time and there is no shame in fumbling along the way. Data visualization is equal parts exploration, equal parts resolution.\n",
    "\n",
    "* You have been provided a starter notebook. Use the code comments as a reminder of steps to follow as you complete the assignment.\n",
    "\n",
    "* Don't get bogged down in small details. Always focus on the big picture. If you can't figure out how to get a label to show up correctly, come back to it. Focus on getting the core skeleton of your notebook complete. You can always revisit old problems.\n",
    "\n",
    "* While you are trying to complete this assignment, feel encouraged to constantly refer to Stack Overflow and the Pandas documentation. These are needed tools in every data analyst's tool belt.\n",
    "\n",
    "* Remember, there are many ways to approach a data problem. The key is to break up your task into micro tasks. Try answering questions like:\n",
    "\n",
    "  * How does my DataFrame need to be structured for me to have the right _x_-axis and _y_-axis?\n",
    "\n",
    "  * How do I build a basic scatter plot?\n",
    "\n",
    "  * How do I add a label to that scatter plot?\n",
    "\n",
    "  * Where would the labels for that scatter plot come from?\n",
    "\n",
    "  Again, don't let the magnitude of a programming task scare you off. Ultimately, every programming problem boils down to a handful of bite-sized tasks.\n",
    "\n",
    "* Get help when you need it! There is never any shame in asking. But, as always, ask a _specific_ question. You'll never get a great answer to \"I'm lost.\"\n",
    "\n",
    "* Also, if you need clarification on anything, please feel free to post in the #homework channel. \n"
   ]
  },
  {
   "cell_type": "code",
   "execution_count": 1,
   "metadata": {},
   "outputs": [],
   "source": [
    "#%matplotlib notebook"
   ]
  },
  {
   "cell_type": "code",
   "execution_count": 67,
   "metadata": {},
   "outputs": [],
   "source": [
    "# Dependencies and Setup\n",
    "import matplotlib.pyplot as plt\n",
    "import pandas as pd\n",
    "import scipy.stats as st\n",
    "from pandas import DataFrame\n",
    "from scipy.stats import linregress\n",
    "import numpy as np"
   ]
  },
  {
   "cell_type": "code",
   "execution_count": 3,
   "metadata": {},
   "outputs": [],
   "source": [
    "# Study data files\n",
    "mouse_metadata_path = \"data/Mouse_metadata.csv\"\n",
    "study_results_path = \"data/Study_results.csv\"\n",
    "\n",
    "# Read the mouse data and the study results\n",
    "mouse_metadata = pd.read_csv(mouse_metadata_path)\n",
    "study_results = pd.read_csv(study_results_path)"
   ]
  },
  {
   "cell_type": "code",
   "execution_count": 4,
   "metadata": {},
   "outputs": [
    {
     "name": "stdout",
     "output_type": "stream",
     "text": [
      "<class 'pandas.core.frame.DataFrame'>\n",
      "Int64Index: 1893 entries, 0 to 1892\n",
      "Data columns (total 8 columns):\n",
      " #   Column              Non-Null Count  Dtype  \n",
      "---  ------              --------------  -----  \n",
      " 0   Mouse ID            1893 non-null   object \n",
      " 1   Timepoint           1893 non-null   int64  \n",
      " 2   Tumor Volume (mm3)  1893 non-null   float64\n",
      " 3   Metastatic Sites    1893 non-null   int64  \n",
      " 4   Drug Regimen        1893 non-null   object \n",
      " 5   Sex                 1893 non-null   object \n",
      " 6   Age_months          1893 non-null   int64  \n",
      " 7   Weight (g)          1893 non-null   int64  \n",
      "dtypes: float64(1), int64(4), object(3)\n",
      "memory usage: 133.1+ KB\n"
     ]
    }
   ],
   "source": [
    "# Check 10 rows of data from each to determine common id for the merge.\n",
    "#mouse_metadata.head(10)\n",
    "#study_results.head(10)\n",
    "\n",
    "#Combine the data into a single dataset\n",
    "pymousestudy_df = pd.merge(study_results, mouse_metadata , on=\"Mouse ID\", how=\"left\")\n",
    "\n",
    "# writer = pd.ExcelWriter('mouseview_df.xlsx')\n",
    "# pymousestudy_df.to_excel(writer,'Sheet1')\n",
    "# writer.save()\n",
    "# writer.close()\n",
    "\n",
    "#pymousestudy_df.head(10)\n",
    "pymousestudy_df.info()"
   ]
  },
  {
   "cell_type": "code",
   "execution_count": 5,
   "metadata": {},
   "outputs": [
    {
     "data": {
      "text/plain": [
       "249"
      ]
     },
     "execution_count": 5,
     "metadata": {},
     "output_type": "execute_result"
    }
   ],
   "source": [
    "# Checking the number of mice in the DataFrame.\n",
    "pymousestudy_df['Mouse ID'].nunique()\n"
   ]
  },
  {
   "cell_type": "code",
   "execution_count": null,
   "metadata": {},
   "outputs": [],
   "source": [
    "    \n"
   ]
  },
  {
   "cell_type": "code",
   "execution_count": 6,
   "metadata": {},
   "outputs": [
    {
     "data": {
      "text/html": [
       "<div>\n",
       "<style scoped>\n",
       "    .dataframe tbody tr th:only-of-type {\n",
       "        vertical-align: middle;\n",
       "    }\n",
       "\n",
       "    .dataframe tbody tr th {\n",
       "        vertical-align: top;\n",
       "    }\n",
       "\n",
       "    .dataframe thead th {\n",
       "        text-align: right;\n",
       "    }\n",
       "</style>\n",
       "<table border=\"1\" class=\"dataframe\">\n",
       "  <thead>\n",
       "    <tr style=\"text-align: right;\">\n",
       "      <th></th>\n",
       "      <th>Mouse ID</th>\n",
       "      <th>Timepoint</th>\n",
       "      <th>Tumor Volume (mm3)</th>\n",
       "      <th>Metastatic Sites</th>\n",
       "      <th>Drug Regimen</th>\n",
       "      <th>Sex</th>\n",
       "      <th>Age_months</th>\n",
       "      <th>Weight (g)</th>\n",
       "    </tr>\n",
       "  </thead>\n",
       "  <tbody>\n",
       "    <tr>\n",
       "      <th>107</th>\n",
       "      <td>g989</td>\n",
       "      <td>0</td>\n",
       "      <td>45.000000</td>\n",
       "      <td>0</td>\n",
       "      <td>Propriva</td>\n",
       "      <td>Female</td>\n",
       "      <td>21</td>\n",
       "      <td>26</td>\n",
       "    </tr>\n",
       "    <tr>\n",
       "      <th>137</th>\n",
       "      <td>g989</td>\n",
       "      <td>0</td>\n",
       "      <td>45.000000</td>\n",
       "      <td>0</td>\n",
       "      <td>Propriva</td>\n",
       "      <td>Female</td>\n",
       "      <td>21</td>\n",
       "      <td>26</td>\n",
       "    </tr>\n",
       "    <tr>\n",
       "      <th>329</th>\n",
       "      <td>g989</td>\n",
       "      <td>5</td>\n",
       "      <td>48.786801</td>\n",
       "      <td>0</td>\n",
       "      <td>Propriva</td>\n",
       "      <td>Female</td>\n",
       "      <td>21</td>\n",
       "      <td>26</td>\n",
       "    </tr>\n",
       "    <tr>\n",
       "      <th>360</th>\n",
       "      <td>g989</td>\n",
       "      <td>5</td>\n",
       "      <td>47.570392</td>\n",
       "      <td>0</td>\n",
       "      <td>Propriva</td>\n",
       "      <td>Female</td>\n",
       "      <td>21</td>\n",
       "      <td>26</td>\n",
       "    </tr>\n",
       "    <tr>\n",
       "      <th>620</th>\n",
       "      <td>g989</td>\n",
       "      <td>10</td>\n",
       "      <td>51.745156</td>\n",
       "      <td>0</td>\n",
       "      <td>Propriva</td>\n",
       "      <td>Female</td>\n",
       "      <td>21</td>\n",
       "      <td>26</td>\n",
       "    </tr>\n",
       "    <tr>\n",
       "      <th>681</th>\n",
       "      <td>g989</td>\n",
       "      <td>10</td>\n",
       "      <td>49.880528</td>\n",
       "      <td>0</td>\n",
       "      <td>Propriva</td>\n",
       "      <td>Female</td>\n",
       "      <td>21</td>\n",
       "      <td>26</td>\n",
       "    </tr>\n",
       "    <tr>\n",
       "      <th>815</th>\n",
       "      <td>g989</td>\n",
       "      <td>15</td>\n",
       "      <td>51.325852</td>\n",
       "      <td>1</td>\n",
       "      <td>Propriva</td>\n",
       "      <td>Female</td>\n",
       "      <td>21</td>\n",
       "      <td>26</td>\n",
       "    </tr>\n",
       "    <tr>\n",
       "      <th>869</th>\n",
       "      <td>g989</td>\n",
       "      <td>15</td>\n",
       "      <td>53.442020</td>\n",
       "      <td>0</td>\n",
       "      <td>Propriva</td>\n",
       "      <td>Female</td>\n",
       "      <td>21</td>\n",
       "      <td>26</td>\n",
       "    </tr>\n",
       "    <tr>\n",
       "      <th>950</th>\n",
       "      <td>g989</td>\n",
       "      <td>20</td>\n",
       "      <td>55.326122</td>\n",
       "      <td>1</td>\n",
       "      <td>Propriva</td>\n",
       "      <td>Female</td>\n",
       "      <td>21</td>\n",
       "      <td>26</td>\n",
       "    </tr>\n",
       "    <tr>\n",
       "      <th>1111</th>\n",
       "      <td>g989</td>\n",
       "      <td>20</td>\n",
       "      <td>54.657650</td>\n",
       "      <td>1</td>\n",
       "      <td>Propriva</td>\n",
       "      <td>Female</td>\n",
       "      <td>21</td>\n",
       "      <td>26</td>\n",
       "    </tr>\n",
       "  </tbody>\n",
       "</table>\n",
       "</div>"
      ],
      "text/plain": [
       "     Mouse ID  Timepoint  Tumor Volume (mm3)  Metastatic Sites Drug Regimen  \\\n",
       "107      g989          0           45.000000                 0     Propriva   \n",
       "137      g989          0           45.000000                 0     Propriva   \n",
       "329      g989          5           48.786801                 0     Propriva   \n",
       "360      g989          5           47.570392                 0     Propriva   \n",
       "620      g989         10           51.745156                 0     Propriva   \n",
       "681      g989         10           49.880528                 0     Propriva   \n",
       "815      g989         15           51.325852                 1     Propriva   \n",
       "869      g989         15           53.442020                 0     Propriva   \n",
       "950      g989         20           55.326122                 1     Propriva   \n",
       "1111     g989         20           54.657650                 1     Propriva   \n",
       "\n",
       "         Sex  Age_months  Weight (g)  \n",
       "107   Female          21          26  \n",
       "137   Female          21          26  \n",
       "329   Female          21          26  \n",
       "360   Female          21          26  \n",
       "620   Female          21          26  \n",
       "681   Female          21          26  \n",
       "815   Female          21          26  \n",
       "869   Female          21          26  \n",
       "950   Female          21          26  \n",
       "1111  Female          21          26  "
      ]
     },
     "execution_count": 6,
     "metadata": {},
     "output_type": "execute_result"
    }
   ],
   "source": [
    "# Getting the duplicate mice by ID number that shows up for Mouse ID and Timepoint. \n",
    "dupeRows_df = pymousestudy_df[pymousestudy_df.duplicated(['Mouse ID', 'Timepoint'], keep= False)]\n",
    "dupeRows_df\n"
   ]
  },
  {
   "cell_type": "code",
   "execution_count": 7,
   "metadata": {},
   "outputs": [],
   "source": [
    "# Optional: Get all the data for the duplicate mouse ID. \n"
   ]
  },
  {
   "cell_type": "code",
   "execution_count": 8,
   "metadata": {},
   "outputs": [
    {
     "name": "stdout",
     "output_type": "stream",
     "text": [
      "<class 'pandas.core.frame.DataFrame'>\n",
      "Int64Index: 1880 entries, 0 to 1892\n",
      "Data columns (total 8 columns):\n",
      " #   Column              Non-Null Count  Dtype  \n",
      "---  ------              --------------  -----  \n",
      " 0   Mouse ID            1880 non-null   object \n",
      " 1   Timepoint           1880 non-null   int64  \n",
      " 2   Tumor Volume (mm3)  1880 non-null   float64\n",
      " 3   Metastatic Sites    1880 non-null   int64  \n",
      " 4   Drug Regimen        1880 non-null   object \n",
      " 5   Sex                 1880 non-null   object \n",
      " 6   Age_months          1880 non-null   int64  \n",
      " 7   Weight (g)          1880 non-null   int64  \n",
      "dtypes: float64(1), int64(4), object(3)\n",
      "memory usage: 132.2+ KB\n"
     ]
    }
   ],
   "source": [
    "# Create a clean DataFrame by dropping the duplicate mouse by its ID.\n",
    "\n",
    "## Created a new DataFrame that filters out the duplicate mouse ID and data associated with it per the instructions:\n",
    "\n",
    "Clean_mouse_df = pymousestudy_df.loc[pymousestudy_df['Mouse ID']!='g989']\n",
    "Clean_mouse_df.info()\n",
    "\n",
    "\n",
    "\n"
   ]
  },
  {
   "cell_type": "code",
   "execution_count": 9,
   "metadata": {},
   "outputs": [
    {
     "data": {
      "text/plain": [
       "248"
      ]
     },
     "execution_count": 9,
     "metadata": {},
     "output_type": "execute_result"
    }
   ],
   "source": [
    "# Checking the number of mice in the clean DataFrame.\n",
    "Clean_mouse_df['Mouse ID'].nunique()\n",
    "\n",
    "#Newmouse_df['Mouse ID'].nunique()\n"
   ]
  },
  {
   "cell_type": "markdown",
   "metadata": {},
   "source": [
    "## Summary Statistics"
   ]
  },
  {
   "cell_type": "code",
   "execution_count": 10,
   "metadata": {},
   "outputs": [],
   "source": [
    "# Generate a summary statistics table of mean, median, variance, standard deviation, and SEM of the tumor volume for each regimen\n",
    "\n",
    "# This method is the most straighforward, creating multiple series and putting them all together at the end\n",
    "\n",
    "Drug_stats = Clean_mouse_df.groupby(['Drug Regimen'])\n"
   ]
  },
  {
   "cell_type": "code",
   "execution_count": 11,
   "metadata": {},
   "outputs": [],
   "source": [
    "Tumor_mean = Drug_stats['Tumor Volume (mm3)'].mean()\n",
    "Tumor_median = Drug_stats['Tumor Volume (mm3)'].median()\n",
    "Tumor_variance = Drug_stats['Tumor Volume (mm3)'].var()\n",
    "Tumor_stdev = Drug_stats['Tumor Volume (mm3)'].std()\n",
    "Tumor_sem = Drug_stats['Tumor Volume (mm3)'].sem()\n",
    "Tumor_Observ = Drug_stats['Tumor Volume (mm3)'].count()\n"
   ]
  },
  {
   "cell_type": "code",
   "execution_count": 12,
   "metadata": {},
   "outputs": [
    {
     "data": {
      "text/html": [
       "<div>\n",
       "<style scoped>\n",
       "    .dataframe tbody tr th:only-of-type {\n",
       "        vertical-align: middle;\n",
       "    }\n",
       "\n",
       "    .dataframe tbody tr th {\n",
       "        vertical-align: top;\n",
       "    }\n",
       "\n",
       "    .dataframe thead th {\n",
       "        text-align: right;\n",
       "    }\n",
       "</style>\n",
       "<table border=\"1\" class=\"dataframe\">\n",
       "  <thead>\n",
       "    <tr style=\"text-align: right;\">\n",
       "      <th></th>\n",
       "      <th>Count of Obs</th>\n",
       "      <th>Mean</th>\n",
       "      <th>Median</th>\n",
       "      <th>Variance</th>\n",
       "      <th>Stdev</th>\n",
       "      <th>SEM</th>\n",
       "    </tr>\n",
       "    <tr>\n",
       "      <th>Drug Regimen</th>\n",
       "      <th></th>\n",
       "      <th></th>\n",
       "      <th></th>\n",
       "      <th></th>\n",
       "      <th></th>\n",
       "      <th></th>\n",
       "    </tr>\n",
       "  </thead>\n",
       "  <tbody>\n",
       "    <tr>\n",
       "      <th>Capomulin</th>\n",
       "      <td>230</td>\n",
       "      <td>40.675741</td>\n",
       "      <td>41.557809</td>\n",
       "      <td>24.947764</td>\n",
       "      <td>4.994774</td>\n",
       "      <td>0.329346</td>\n",
       "    </tr>\n",
       "    <tr>\n",
       "      <th>Ceftamin</th>\n",
       "      <td>178</td>\n",
       "      <td>52.591172</td>\n",
       "      <td>51.776157</td>\n",
       "      <td>39.290177</td>\n",
       "      <td>6.268188</td>\n",
       "      <td>0.469821</td>\n",
       "    </tr>\n",
       "    <tr>\n",
       "      <th>Infubinol</th>\n",
       "      <td>178</td>\n",
       "      <td>52.884795</td>\n",
       "      <td>51.820584</td>\n",
       "      <td>43.128684</td>\n",
       "      <td>6.567243</td>\n",
       "      <td>0.492236</td>\n",
       "    </tr>\n",
       "    <tr>\n",
       "      <th>Ketapril</th>\n",
       "      <td>188</td>\n",
       "      <td>55.235638</td>\n",
       "      <td>53.698743</td>\n",
       "      <td>68.553577</td>\n",
       "      <td>8.279709</td>\n",
       "      <td>0.603860</td>\n",
       "    </tr>\n",
       "    <tr>\n",
       "      <th>Naftisol</th>\n",
       "      <td>186</td>\n",
       "      <td>54.331565</td>\n",
       "      <td>52.509285</td>\n",
       "      <td>66.173479</td>\n",
       "      <td>8.134708</td>\n",
       "      <td>0.596466</td>\n",
       "    </tr>\n",
       "    <tr>\n",
       "      <th>Placebo</th>\n",
       "      <td>181</td>\n",
       "      <td>54.033581</td>\n",
       "      <td>52.288934</td>\n",
       "      <td>61.168083</td>\n",
       "      <td>7.821003</td>\n",
       "      <td>0.581331</td>\n",
       "    </tr>\n",
       "    <tr>\n",
       "      <th>Propriva</th>\n",
       "      <td>148</td>\n",
       "      <td>52.320930</td>\n",
       "      <td>50.446266</td>\n",
       "      <td>43.852013</td>\n",
       "      <td>6.622085</td>\n",
       "      <td>0.544332</td>\n",
       "    </tr>\n",
       "    <tr>\n",
       "      <th>Ramicane</th>\n",
       "      <td>228</td>\n",
       "      <td>40.216745</td>\n",
       "      <td>40.673236</td>\n",
       "      <td>23.486704</td>\n",
       "      <td>4.846308</td>\n",
       "      <td>0.320955</td>\n",
       "    </tr>\n",
       "    <tr>\n",
       "      <th>Stelasyn</th>\n",
       "      <td>181</td>\n",
       "      <td>54.233149</td>\n",
       "      <td>52.431737</td>\n",
       "      <td>59.450562</td>\n",
       "      <td>7.710419</td>\n",
       "      <td>0.573111</td>\n",
       "    </tr>\n",
       "    <tr>\n",
       "      <th>Zoniferol</th>\n",
       "      <td>182</td>\n",
       "      <td>53.236507</td>\n",
       "      <td>51.818479</td>\n",
       "      <td>48.533355</td>\n",
       "      <td>6.966589</td>\n",
       "      <td>0.516398</td>\n",
       "    </tr>\n",
       "  </tbody>\n",
       "</table>\n",
       "</div>"
      ],
      "text/plain": [
       "              Count of Obs       Mean     Median   Variance     Stdev  \\\n",
       "Drug Regimen                                                            \n",
       "Capomulin              230  40.675741  41.557809  24.947764  4.994774   \n",
       "Ceftamin               178  52.591172  51.776157  39.290177  6.268188   \n",
       "Infubinol              178  52.884795  51.820584  43.128684  6.567243   \n",
       "Ketapril               188  55.235638  53.698743  68.553577  8.279709   \n",
       "Naftisol               186  54.331565  52.509285  66.173479  8.134708   \n",
       "Placebo                181  54.033581  52.288934  61.168083  7.821003   \n",
       "Propriva               148  52.320930  50.446266  43.852013  6.622085   \n",
       "Ramicane               228  40.216745  40.673236  23.486704  4.846308   \n",
       "Stelasyn               181  54.233149  52.431737  59.450562  7.710419   \n",
       "Zoniferol              182  53.236507  51.818479  48.533355  6.966589   \n",
       "\n",
       "                   SEM  \n",
       "Drug Regimen            \n",
       "Capomulin     0.329346  \n",
       "Ceftamin      0.469821  \n",
       "Infubinol     0.492236  \n",
       "Ketapril      0.603860  \n",
       "Naftisol      0.596466  \n",
       "Placebo       0.581331  \n",
       "Propriva      0.544332  \n",
       "Ramicane      0.320955  \n",
       "Stelasyn      0.573111  \n",
       "Zoniferol     0.516398  "
      ]
     },
     "execution_count": 12,
     "metadata": {},
     "output_type": "execute_result"
    }
   ],
   "source": [
    "# Generate a summary statistics table of mean, median, variance, standard deviation, and SEM of the tumor volume for each regimen\n",
    "\n",
    "DS_table_df = pd.DataFrame({\n",
    "                            'Count of Obs':Tumor_Observ,\n",
    "                            'Mean':Tumor_mean,\n",
    "                            'Median': Tumor_median,\n",
    "                            'Variance': Tumor_variance,\n",
    "                            'Stdev': Tumor_stdev,\n",
    "                            'SEM': Tumor_sem})\n",
    "\n",
    "#DS_table_df = DS_table_df.reset_index(drop = True)\n",
    "\n",
    "#x_axis = Clean_mouse_df['Drug Regimen'].unique()\n",
    "    \n",
    "DS_table_df\n",
    "\n"
   ]
  },
  {
   "cell_type": "code",
   "execution_count": null,
   "metadata": {},
   "outputs": [],
   "source": []
  },
  {
   "cell_type": "markdown",
   "metadata": {},
   "source": [
    "## Observation 1: - Capomulin and Ramicane seem to have the lowest std deviation and                                             variance. Mean values are also lower than the other drugs under review.\n"
   ]
  },
  {
   "cell_type": "markdown",
   "metadata": {},
   "source": [
    "## Bar Plots"
   ]
  },
  {
   "cell_type": "code",
   "execution_count": 13,
   "metadata": {},
   "outputs": [
    {
     "data": {
      "image/png": "[encoded data removed]",
      "text/plain": [
       "<Figure size 288x288 with 1 Axes>"
      ]
     },
     "metadata": {
      "needs_background": "light"
     },
     "output_type": "display_data"
    },
    {
     "data": {
      "text/plain": [
       "<Figure size 432x288 with 0 Axes>"
      ]
     },
     "metadata": {},
     "output_type": "display_data"
    }
   ],
   "source": [
    "# Generate a bar plot showing number of data points for each treatment regimen using pandas\n",
    "\n",
    "Barplot_df = DS_table_df['Count of Obs']\n",
    "\n",
    "Barplot_df.plot(kind = 'bar', figsize =(4,4))\n",
    "\n",
    "# # Set a title for the chart\n",
    "plt.title(\"Count of Observations per Regimen\")\n",
    "plt.show()\n",
    "\n",
    "plt.tight_layout()\n"
   ]
  },
  {
   "cell_type": "code",
   "execution_count": 14,
   "metadata": {
    "scrolled": true
   },
   "outputs": [
    {
     "data": {
      "text/plain": [
       "Text(0, 0.5, 'Counts')"
      ]
     },
     "execution_count": 14,
     "metadata": {},
     "output_type": "execute_result"
    },
    {
     "data": {
      "image/png": "[encoded data removed]",
      "text/plain": [
       "<Figure size 288x288 with 1 Axes>"
      ]
     },
     "metadata": {
      "needs_background": "light"
     },
     "output_type": "display_data"
    }
   ],
   "source": [
    "# Generate a bar plot showing number of data points for each treatment regimen using pyplot\n",
    "\n",
    "Drugs =['Capomulin','Ceftamin','Infubinol','Ketapril','Naftisol','Placebo','Propriva','Ramicane','Stelasyn','Zoniferol']\n",
    "\n",
    "dCounts =DS_table_df['Count of Obs']\n",
    "\n",
    "\n",
    "# Refernce information for plotting:\n",
    "# 1 users = [13000, 26000, 52000, 30000, 9000]\n",
    "# 2 x_axis = np.arange(len(users))\n",
    "# 3 # Users is our y axis and x_axis is, of course, our x axis\n",
    "# 4 # We apply align=\"edge\" to ensure our bars line up with our tick marks\n",
    "# 5 plt.bar(x_axis, users, color='r', alpha=0.5, align=\"center\")\n",
    "\n",
    "x_axis = Drugs\n",
    "fig= plt.figure(figsize=(4,4))\n",
    "#plt.xticks(fontsize=12)\n",
    "\n",
    "plt.bar(x_axis,dCounts, color='b',alpha=1,align=\"center\")\n",
    "\n",
    "\n",
    "#, align=\"center\"\n",
    "\n",
    "plt.title(\"Count of Observations per Regimen\")\n",
    "plt.xlabel(\"Drug Regimen\")\n",
    "plt.xticks(rotation=40, fontsize = 6)\n",
    "\n",
    "plt.ylabel(\"Counts\")\n",
    "\n",
    "\n"
   ]
  },
  {
   "cell_type": "markdown",
   "metadata": {},
   "source": [
    "## Pie Plots"
   ]
  },
  {
   "cell_type": "code",
   "execution_count": 15,
   "metadata": {},
   "outputs": [
    {
     "data": {
      "text/plain": [
       "<matplotlib.axes._subplots.AxesSubplot at 0x20e928cb048>"
      ]
     },
     "execution_count": 15,
     "metadata": {},
     "output_type": "execute_result"
    },
    {
     "data": {
      "image/png": "[encoded data removed]",
      "text/plain": [
       "<Figure size 288x288 with 1 Axes>"
      ]
     },
     "metadata": {},
     "output_type": "display_data"
    }
   ],
   "source": [
    "# Generate a pie plot showing the distribution of female versus male mice using pandas\n",
    "\n",
    "#Extract the data and get counts for the table\n",
    "\n",
    "Mouse_pop = Clean_mouse_df.groupby(['Sex'])\n",
    "Mouse_dist = Mouse_pop['Sex'].count()\n",
    "Mouse_dist\n",
    "\n",
    "\n",
    "#Make a DataFrame\n",
    "Sex_df = pd.DataFrame(Mouse_dist)\n",
    "Sex_df\n",
    "\n",
    "\n",
    "#Plot the data\n",
    "Sex_df.plot.pie(y='Sex', figsize=(4,4))\n",
    "\n"
   ]
  },
  {
   "cell_type": "code",
   "execution_count": 16,
   "metadata": {},
   "outputs": [
    {
     "data": {
      "image/png": "[encoded data removed]",
      "text/plain": [
       "<Figure size 432x288 with 1 Axes>"
      ]
     },
     "metadata": {},
     "output_type": "display_data"
    }
   ],
   "source": [
    "# Generate a pie plot showing the distribution of female versus male mice using pyplot\n",
    "Sex_df\n",
    "\n",
    "#MF_dist = [{'Male': 958,'Female': 922}]\n",
    "\n",
    "labels = ['Female', 'Male']\n",
    "Values = [922, 958]\n",
    "explode = (0,0)\n",
    "\n",
    "fig1, ax1 = plt.subplots()\n",
    "\n",
    "ax1.pie(Values,explode =explode, labels=labels,autopct='%1.1f%%',shadow=False, startangle=0)\n",
    "\n",
    "plt.show()\n"
   ]
  },
  {
   "cell_type": "markdown",
   "metadata": {},
   "source": [
    "## Quartiles, Outliers and Boxplots"
   ]
  },
  {
   "cell_type": "code",
   "execution_count": 17,
   "metadata": {},
   "outputs": [
    {
     "data": {
      "text/html": [
       "<div>\n",
       "<style scoped>\n",
       "    .dataframe tbody tr th:only-of-type {\n",
       "        vertical-align: middle;\n",
       "    }\n",
       "\n",
       "    .dataframe tbody tr th {\n",
       "        vertical-align: top;\n",
       "    }\n",
       "\n",
       "    .dataframe thead th {\n",
       "        text-align: right;\n",
       "    }\n",
       "</style>\n",
       "<table border=\"1\" class=\"dataframe\">\n",
       "  <thead>\n",
       "    <tr style=\"text-align: right;\">\n",
       "      <th></th>\n",
       "      <th>Count of Obs</th>\n",
       "      <th>Mean</th>\n",
       "      <th>Median</th>\n",
       "      <th>Variance</th>\n",
       "      <th>Stdev</th>\n",
       "      <th>SEM</th>\n",
       "    </tr>\n",
       "    <tr>\n",
       "      <th>Drug Regimen</th>\n",
       "      <th></th>\n",
       "      <th></th>\n",
       "      <th></th>\n",
       "      <th></th>\n",
       "      <th></th>\n",
       "      <th></th>\n",
       "    </tr>\n",
       "  </thead>\n",
       "  <tbody>\n",
       "    <tr>\n",
       "      <th>Ramicane</th>\n",
       "      <td>228</td>\n",
       "      <td>40.216745</td>\n",
       "      <td>40.673236</td>\n",
       "      <td>23.486704</td>\n",
       "      <td>4.846308</td>\n",
       "      <td>0.320955</td>\n",
       "    </tr>\n",
       "    <tr>\n",
       "      <th>Capomulin</th>\n",
       "      <td>230</td>\n",
       "      <td>40.675741</td>\n",
       "      <td>41.557809</td>\n",
       "      <td>24.947764</td>\n",
       "      <td>4.994774</td>\n",
       "      <td>0.329346</td>\n",
       "    </tr>\n",
       "    <tr>\n",
       "      <th>Propriva</th>\n",
       "      <td>148</td>\n",
       "      <td>52.320930</td>\n",
       "      <td>50.446266</td>\n",
       "      <td>43.852013</td>\n",
       "      <td>6.622085</td>\n",
       "      <td>0.544332</td>\n",
       "    </tr>\n",
       "    <tr>\n",
       "      <th>Ceftamin</th>\n",
       "      <td>178</td>\n",
       "      <td>52.591172</td>\n",
       "      <td>51.776157</td>\n",
       "      <td>39.290177</td>\n",
       "      <td>6.268188</td>\n",
       "      <td>0.469821</td>\n",
       "    </tr>\n",
       "    <tr>\n",
       "      <th>Infubinol</th>\n",
       "      <td>178</td>\n",
       "      <td>52.884795</td>\n",
       "      <td>51.820584</td>\n",
       "      <td>43.128684</td>\n",
       "      <td>6.567243</td>\n",
       "      <td>0.492236</td>\n",
       "    </tr>\n",
       "    <tr>\n",
       "      <th>Zoniferol</th>\n",
       "      <td>182</td>\n",
       "      <td>53.236507</td>\n",
       "      <td>51.818479</td>\n",
       "      <td>48.533355</td>\n",
       "      <td>6.966589</td>\n",
       "      <td>0.516398</td>\n",
       "    </tr>\n",
       "    <tr>\n",
       "      <th>Placebo</th>\n",
       "      <td>181</td>\n",
       "      <td>54.033581</td>\n",
       "      <td>52.288934</td>\n",
       "      <td>61.168083</td>\n",
       "      <td>7.821003</td>\n",
       "      <td>0.581331</td>\n",
       "    </tr>\n",
       "    <tr>\n",
       "      <th>Stelasyn</th>\n",
       "      <td>181</td>\n",
       "      <td>54.233149</td>\n",
       "      <td>52.431737</td>\n",
       "      <td>59.450562</td>\n",
       "      <td>7.710419</td>\n",
       "      <td>0.573111</td>\n",
       "    </tr>\n",
       "    <tr>\n",
       "      <th>Naftisol</th>\n",
       "      <td>186</td>\n",
       "      <td>54.331565</td>\n",
       "      <td>52.509285</td>\n",
       "      <td>66.173479</td>\n",
       "      <td>8.134708</td>\n",
       "      <td>0.596466</td>\n",
       "    </tr>\n",
       "    <tr>\n",
       "      <th>Ketapril</th>\n",
       "      <td>188</td>\n",
       "      <td>55.235638</td>\n",
       "      <td>53.698743</td>\n",
       "      <td>68.553577</td>\n",
       "      <td>8.279709</td>\n",
       "      <td>0.603860</td>\n",
       "    </tr>\n",
       "  </tbody>\n",
       "</table>\n",
       "</div>"
      ],
      "text/plain": [
       "              Count of Obs       Mean     Median   Variance     Stdev  \\\n",
       "Drug Regimen                                                            \n",
       "Ramicane               228  40.216745  40.673236  23.486704  4.846308   \n",
       "Capomulin              230  40.675741  41.557809  24.947764  4.994774   \n",
       "Propriva               148  52.320930  50.446266  43.852013  6.622085   \n",
       "Ceftamin               178  52.591172  51.776157  39.290177  6.268188   \n",
       "Infubinol              178  52.884795  51.820584  43.128684  6.567243   \n",
       "Zoniferol              182  53.236507  51.818479  48.533355  6.966589   \n",
       "Placebo                181  54.033581  52.288934  61.168083  7.821003   \n",
       "Stelasyn               181  54.233149  52.431737  59.450562  7.710419   \n",
       "Naftisol               186  54.331565  52.509285  66.173479  8.134708   \n",
       "Ketapril               188  55.235638  53.698743  68.553577  8.279709   \n",
       "\n",
       "                   SEM  \n",
       "Drug Regimen            \n",
       "Ramicane      0.320955  \n",
       "Capomulin     0.329346  \n",
       "Propriva      0.544332  \n",
       "Ceftamin      0.469821  \n",
       "Infubinol     0.492236  \n",
       "Zoniferol     0.516398  \n",
       "Placebo       0.581331  \n",
       "Stelasyn      0.573111  \n",
       "Naftisol      0.596466  \n",
       "Ketapril      0.603860  "
      ]
     },
     "execution_count": 17,
     "metadata": {},
     "output_type": "execute_result"
    }
   ],
   "source": [
    "# Calculate the final tumor volume of each mouse across four of the most promising treatment regimens . Calculate the IQR and quantitatively determine if there are any potential outliers. \n",
    "\n",
    "#Define the four most promising treatment regimens - Sort the table by Mean and StDev.\n",
    "# Note - The case instructions define the 4 best as Capomulin, Ramicane,Infubinol andd Ceftamin. It is noteworthy that Propriva has a lower mean\n",
    "# than Ceftamin, though Ceftamin is more consistent (Shown by the Variance and Stdev.) \n",
    "\n",
    "DS_table_df = DS_table_df.sort_values(['Mean','Variance'])\n",
    "DS_table_df"
   ]
  },
  {
   "cell_type": "code",
   "execution_count": 18,
   "metadata": {},
   "outputs": [],
   "source": [
    "#Calculate the final tumor volume of each of the following regimens: Capomulin, Ramicane,Infubinol andd Ceftamin\n",
    "Best_Candidates = Clean_mouse_df.loc[(Clean_mouse_df['Drug Regimen'] == 'Ramicane') |\n",
    "                                     (Clean_mouse_df['Drug Regimen'] =='Capomulin') | \n",
    "                                     (Clean_mouse_df['Drug Regimen'] =='Ceftamin') |  \n",
    "                                     (Clean_mouse_df['Drug Regimen'] =='Infubinol'),:]           "
   ]
  },
  {
   "cell_type": "code",
   "execution_count": 19,
   "metadata": {},
   "outputs": [
    {
     "data": {
      "text/html": [
       "<div>\n",
       "<style scoped>\n",
       "    .dataframe tbody tr th:only-of-type {\n",
       "        vertical-align: middle;\n",
       "    }\n",
       "\n",
       "    .dataframe tbody tr th {\n",
       "        vertical-align: top;\n",
       "    }\n",
       "\n",
       "    .dataframe thead th {\n",
       "        text-align: right;\n",
       "    }\n",
       "</style>\n",
       "<table border=\"1\" class=\"dataframe\">\n",
       "  <thead>\n",
       "    <tr style=\"text-align: right;\">\n",
       "      <th></th>\n",
       "      <th>Drug Regimen</th>\n",
       "      <th>Timepoint</th>\n",
       "      <th>Tumor Volume (mm3)</th>\n",
       "    </tr>\n",
       "  </thead>\n",
       "  <tbody>\n",
       "    <tr>\n",
       "      <th>9</th>\n",
       "      <td>Capomulin</td>\n",
       "      <td>45</td>\n",
       "      <td>36.236114</td>\n",
       "    </tr>\n",
       "    <tr>\n",
       "      <th>19</th>\n",
       "      <td>Ceftamin</td>\n",
       "      <td>45</td>\n",
       "      <td>64.132421</td>\n",
       "    </tr>\n",
       "    <tr>\n",
       "      <th>29</th>\n",
       "      <td>Infubinol</td>\n",
       "      <td>45</td>\n",
       "      <td>65.755562</td>\n",
       "    </tr>\n",
       "    <tr>\n",
       "      <th>39</th>\n",
       "      <td>Ramicane</td>\n",
       "      <td>45</td>\n",
       "      <td>34.955595</td>\n",
       "    </tr>\n",
       "  </tbody>\n",
       "</table>\n",
       "</div>"
      ],
      "text/plain": [
       "   Drug Regimen  Timepoint  Tumor Volume (mm3)\n",
       "9     Capomulin         45           36.236114\n",
       "19     Ceftamin         45           64.132421\n",
       "29    Infubinol         45           65.755562\n",
       "39     Ramicane         45           34.955595"
      ]
     },
     "execution_count": 19,
     "metadata": {},
     "output_type": "execute_result"
    }
   ],
   "source": [
    "# Group the Drugs by Drug and Timestamp. Get the mean value for each time stamp. Save into a DataFrame. Plot the max time stamp for each.\n",
    "\n",
    "Mouse_Vols = Best_Candidates.groupby(['Drug Regimen','Timepoint'])\n",
    "Time_Stamp_mean = Mouse_Vols['Tumor Volume (mm3)'].mean()\n",
    "\n",
    "# Share the final Tumor volume in a Data Frame.\n",
    "#Final Tumor volume = last measurement in the dataset for each of four drugs (I calculated the average of the last measurement here.)\n",
    "Time_Stamp_mean = pd.DataFrame(Time_Stamp_mean)\n",
    "Time_Stamp_mean= Time_Stamp_mean.reset_index()\n",
    "Final_Vol = Time_Stamp_mean.loc[(Time_Stamp_mean['Timepoint']== 45),:]\n",
    "Final_Vol "
   ]
  },
  {
   "cell_type": "code",
   "execution_count": 20,
   "metadata": {},
   "outputs": [],
   "source": [
    "# Calculate the IQR and quantitatively determine if there are any potential outliers. \n",
    "\n",
    "Final_drugpop = Best_Candidates.loc[(Best_Candidates['Timepoint'] >= 45)]\n",
    "\n",
    "Capomulin_df = Final_drugpop.loc[(Final_drugpop['Drug Regimen']== 'Capomulin')]\n",
    "Ceftamin_df = Final_drugpop.loc[(Final_drugpop['Drug Regimen']== 'Ceftamin')]\n",
    "Infubinol_df =Final_drugpop.loc[(Final_drugpop['Drug Regimen']== 'Infubinol')]\n",
    "Ramicane_df = Final_drugpop.loc[(Final_drugpop['Drug Regimen']== 'Ramicane')]"
   ]
  },
  {
   "cell_type": "code",
   "execution_count": 21,
   "metadata": {},
   "outputs": [
    {
     "name": "stdout",
     "output_type": "stream",
     "text": [
      "Capomulin lower quartile: 32.37735684\n",
      "Capomulin upper quartile: 40.1592203\n",
      "Capomulin interquartile : 7.781863460000004\n",
      "Capomulin values below 20.70456164999999 could be outliers.\n",
      "Capomulin values above 51.83201549 could be outliers.\n"
     ]
    }
   ],
   "source": [
    "#Capomulin(Cap) Quartile Calcs\n",
    "Capquartiles = Capomulin_df['Tumor Volume (mm3)'].quantile([0.25,0.5,0.75])\n",
    "Caplowerq = Capquartiles[0.25]\n",
    "Capupperq = Capquartiles[0.75]\n",
    "Capiqr = Capupperq-Caplowerq\n",
    "Caplower_bound = Caplowerq - (1.5*Capiqr)\n",
    "Capupper_bound = Capupperq + (1.5*Capiqr)\n",
    "\n",
    "print(f\"Capomulin lower quartile: {Caplowerq}\")\n",
    "print(f\"Capomulin upper quartile: {Capupperq}\")\n",
    "print(f\"Capomulin interquartile : {Capiqr}\")\n",
    "print(f\"Capomulin values below {Caplower_bound} could be outliers.\")\n",
    "print(f\"Capomulin values above {Capupper_bound} could be outliers.\")\n"
   ]
  },
  {
   "cell_type": "code",
   "execution_count": 22,
   "metadata": {},
   "outputs": [
    {
     "name": "stdout",
     "output_type": "stream",
     "text": [
      "Ceftamin lower quartile: 61.43389223\n",
      "Ceftamin upper quartile: 67.52748237\n",
      "Ceftamin interquartile : 6.093590140000003\n",
      "Ceftamin values below 52.29350701999999 could be outliers.\n",
      "Ceftamin values above 76.66786758 could be outliers.\n"
     ]
    }
   ],
   "source": [
    "#Ceftamin (Ceft) Quartile Calcs\n",
    "Ceftquartiles = Ceftamin_df['Tumor Volume (mm3)'].quantile([0.25,0.5,0.75])\n",
    "Ceftlowerq = Ceftquartiles[0.25]\n",
    "Ceftupperq = Ceftquartiles[0.75]\n",
    "Ceftiqr = Ceftupperq-Ceftlowerq\n",
    "Ceftlower_bound = Ceftlowerq - (1.5*Ceftiqr)\n",
    "Ceftupper_bound = Ceftupperq + (1.5*Ceftiqr)\n",
    "\n",
    "print(f\"Ceftamin lower quartile: {Ceftlowerq}\")\n",
    "print(f\"Ceftamin upper quartile: {Ceftupperq}\")\n",
    "print(f\"Ceftamin interquartile : {Ceftiqr}\")\n",
    "print(f\"Ceftamin values below {Ceftlower_bound} could be outliers.\")\n",
    "print(f\"Ceftamin values above {Ceftupper_bound} could be outliers.\")\n"
   ]
  },
  {
   "cell_type": "code",
   "execution_count": 23,
   "metadata": {},
   "outputs": [
    {
     "name": "stdout",
     "output_type": "stream",
     "text": [
      "Infubinol lower quartile: 62.75445141\n",
      "Infubinol upper quartile: 67.68556862\n",
      "Infubinol interquartile : 4.9311172099999965\n",
      "Infubinol values below 55.35777559500001 could be outliers.\n",
      "Infubinol values above 75.08224443499999 could be outliers.\n"
     ]
    }
   ],
   "source": [
    "#Infubinol (Inf) Quartile Calcs\n",
    "Infquartiles = Infubinol_df['Tumor Volume (mm3)'].quantile([0.25,0.5,0.75])\n",
    "Inflowerq = Infquartiles[0.25]\n",
    "Infupperq = Infquartiles[0.75]\n",
    "Infiqr = Infupperq-Inflowerq\n",
    "Inflower_bound = Inflowerq - (1.5*Infiqr)\n",
    "Infupper_bound = Infupperq + (1.5*Infiqr)\n",
    "\n",
    "print(f\"Infubinol lower quartile: {Inflowerq}\")\n",
    "print(f\"Infubinol upper quartile: {Infupperq}\")\n",
    "print(f\"Infubinol interquartile : {Infiqr}\")\n",
    "print(f\"Infubinol values below {Inflower_bound} could be outliers.\")\n",
    "print(f\"Infubinol values above {Infupper_bound} could be outliers.\")\n"
   ]
  },
  {
   "cell_type": "code",
   "execution_count": 31,
   "metadata": {},
   "outputs": [
    {
     "name": "stdout",
     "output_type": "stream",
     "text": [
      "Ramicane lower quartile: 30.981175224999998\n",
      "Ramicane upper quartile: 38.508305307499995\n",
      "Ramicane interquartile : 7.527130082499998\n",
      "Ramicane values below 19.690480101250003 could be outliers.\n",
      "Ramicane values above 49.79900043124999 could be outliers.\n"
     ]
    }
   ],
   "source": [
    "#Ramicane (Ram) Quartile Calcs\n",
    "Ramquartiles = Ramicane_df['Tumor Volume (mm3)'].quantile([0.25,0.5,0.75])\n",
    "Ramlowerq = Ramquartiles[0.25]\n",
    "Ramupperq = Ramquartiles[0.75]\n",
    "Ramiqr = Ramupperq-Ramlowerq\n",
    "Ramlower_bound = Ramlowerq - (1.5*Ramiqr)\n",
    "Ramupper_bound = Ramupperq + (1.5*Ramiqr)\n",
    "\n",
    "print(f\"Ramicane lower quartile: {Ramlowerq}\")\n",
    "print(f\"Ramicane upper quartile: {Ramupperq}\")\n",
    "print(f\"Ramicane interquartile : {Ramiqr}\")\n",
    "print(f\"Ramicane values below {Ramlower_bound} could be outliers.\")\n",
    "print(f\"Ramicane values above {Ramupper_bound} could be outliers.\")\n"
   ]
  },
  {
   "cell_type": "code",
   "execution_count": 32,
   "metadata": {},
   "outputs": [
    {
     "data": {
      "image/png": "[encoded data removed]",
      "text/plain": [
       "<Figure size 432x288 with 1 Axes>"
      ]
     },
     "metadata": {
      "needs_background": "light"
     },
     "output_type": "display_data"
    }
   ],
   "source": [
    "# Generate a box plot of the final tumor volume of each mouse across four regimens of interest\n",
    "#Make a table with the final vol. data in one place:\n",
    "\n",
    "Cancervol = [Capomulin_df['Tumor Volume (mm3)'],\n",
    "             Ramicane_df['Tumor Volume (mm3)'],\n",
    "             Ceftamin_df['Tumor Volume (mm3)'],\n",
    "             Infubinol_df ['Tumor Volume (mm3)']]\n",
    "\n",
    "fig1, ax1 = plt.subplots()\n",
    "ax1.set_title('Boxplot of Top 4 Drug Regimens')\n",
    "ax1.set_ylabel('Final Tumor Volume (mm3)')\n",
    "ax1.set_xlabel('Drug Regimen')\n",
    "ax1.boxplot(Cancervol, labels=[\"Capomulin\",\"Ramicane\",\"Ceftamin\",\"Infubinol\",])\n",
    "plt.show()\n"
   ]
  },
  {
   "cell_type": "markdown",
   "metadata": {},
   "source": [
    "## Line and Scatter Plots"
   ]
  },
  {
   "cell_type": "code",
   "execution_count": 48,
   "metadata": {},
   "outputs": [
    {
     "data": {
      "image/png": "[encoded data removed]",
      "text/plain": [
       "<Figure size 432x288 with 1 Axes>"
      ]
     },
     "metadata": {
      "needs_background": "light"
     },
     "output_type": "display_data"
    }
   ],
   "source": [
    "# Generate a line plot of time point versus tumor volume for a mouse treated with Capomulin\n",
    "\n",
    "#Best_Candidates.info() \n",
    "\n",
    "Capline_Scatter = Best_Candidates.loc[(Best_Candidates['Drug Regimen'] =='Capomulin'),:]\n",
    "Capline_Scatter = Capline_Scatter[['Timepoint','Tumor Volume (mm3)','Weight (g)']]\n",
    "\n",
    "#Capline_Scatter.info()\n",
    "\n",
    "Capline_Scatter = Capline_Scatter.groupby(['Timepoint'])\n",
    "Tumorvol = Capline_Scatter['Tumor Volume (mm3)'].mean()\n",
    "\n",
    "# plt.Title = 'Capomulin Tumorvolume over time'\n",
    "Lines = Tumorvol.plot.line(Tumorvol)\n",
    "\n",
    "# writer = pd.ExcelWriter('Capline.xlsx')\n",
    "# Capline_Scatter.to_excel(writer,'Sheet1')\n",
    "# writer.save()\n",
    "# writer.close()\n"
   ]
  },
  {
   "cell_type": "code",
   "execution_count": 65,
   "metadata": {},
   "outputs": [
    {
     "data": {
      "text/plain": [
       "<matplotlib.collections.PathCollection at 0x20e93252488>"
      ]
     },
     "execution_count": 65,
     "metadata": {},
     "output_type": "execute_result"
    },
    {
     "data": {
      "image/png": "[encoded data removed]",
      "text/plain": [
       "<Figure size 432x288 with 1 Axes>"
      ]
     },
     "metadata": {
      "needs_background": "light"
     },
     "output_type": "display_data"
    }
   ],
   "source": [
    "# Generate a scatter plot of mouse weight versus average tumor volume for the Capomulin regimen\n",
    "\n",
    "NCapline_Scatter = Best_Candidates.loc[(Best_Candidates['Drug Regimen'] =='Capomulin'),:] \n",
    "NCapline_Scatter = NCapline_Scatter[['Weight (g)','Tumor Volume (mm3)']]\n",
    "\n",
    "M_weight = NCapline_Scatter['Weight (g)']\n",
    "TVol = NCapline_Scatter['Tumor Volume (mm3)']\n",
    "plt.xlabel('Weight(g)')\n",
    "plt.ylabel('Tumor Volume (mm3)')\n",
    "\n",
    "\n",
    "plt.scatter(M_weight, TVol, marker=\"o\", facecolors=\"red\", edgecolors=\"black\")"
   ]
  },
  {
   "cell_type": "markdown",
   "metadata": {},
   "source": [
    "## Correlation and Regression"
   ]
  },
  {
   "cell_type": "code",
   "execution_count": 70,
   "metadata": {},
   "outputs": [
    {
     "name": "stdout",
     "output_type": "stream",
     "text": [
      "The r-squared is: 0.5256995552077169\n"
     ]
    },
    {
     "data": {
      "image/png": "[encoded data removed]",
      "text/plain": [
       "<Figure size 432x288 with 1 Axes>"
      ]
     },
     "metadata": {
      "needs_background": "light"
     },
     "output_type": "display_data"
    }
   ],
   "source": [
    "# Calculate the correlation coefficient and linear regression model \n",
    "# for mouse weight and average tumor volume for the Capomulin regimen\n",
    "\n",
    "\n",
    "#Add regression analysis\n",
    "x_values = M_weight\n",
    "y_values = TVol\n",
    "(slope, intercept, rvalue, pvalue, stderr) = linregress(x_values,y_values )\n",
    "regress_values = x_values * slope + intercept\n",
    "line_eq = \"y = \" + str(round(slope,2)) + \"x + \" + str(round(intercept,2))\n",
    "plt.scatter(x_values,y_values)\n",
    "plt.plot(x_values,regress_values,\"r-\")\n",
    "plt.annotate(line_eq,(20,30),fontsize=15,color=\"red\")\n",
    "plt.xlabel('Weight')\n",
    "plt.ylabel('Tumor Volume (mm3)')\n",
    "print(f\"The r-squared is: {rvalue}\")\n",
    "#print(line_eq)\n",
    "plt.show()\n",
    "\n",
    "\n",
    "\n",
    "\n",
    "\n",
    "\n",
    "\n",
    "\n"
   ]
  },
  {
   "cell_type": "code",
   "execution_count": null,
   "metadata": {},
   "outputs": [],
   "source": []
  }
 ],
 "metadata": {
  "anaconda-cloud": {},
  "kernelspec": {
   "display_name": "Python 3",
   "language": "python",
   "name": "python3"
  },
  "language_info": {
   "codemirror_mode": {
    "name": "ipython",
    "version": 3
   },
   "file_extension": ".py",
   "mimetype": "text/x-python",
   "name": "python",
   "nbconvert_exporter": "python",
   "pygments_lexer": "ipython3",
   "version": "3.7.6"
  }
 },
 "nbformat": 4,
 "nbformat_minor": 2
}
